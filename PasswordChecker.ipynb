{
  "metadata": {
    "kernelspec": {
      "language": "python",
      "display_name": "Python 3",
      "name": "python3"
    },
    "language_info": {
      "name": "python",
      "version": "3.10.14",
      "mimetype": "text/x-python",
      "codemirror_mode": {
        "name": "ipython",
        "version": 3
      },
      "pygments_lexer": "ipython3",
      "nbconvert_exporter": "python",
      "file_extension": ".py"
    },
    "kaggle": {
      "accelerator": "none",
      "dataSources": [],
      "dockerImageVersionId": 30804,
      "isInternetEnabled": false,
      "language": "python",
      "sourceType": "notebook",
      "isGpuEnabled": false
    },
    "colab": {
      "name": "PasswordChecker",
      "provenance": []
    }
  },
  "nbformat_minor": 0,
  "nbformat": 4,
  "cells": [
    {
      "cell_type": "code",
      "source": [
        "import re\n",
        "import getpass\n",
        "\n",
        "def check_password_strength(password):\n",
        "    # Define criteria for a strong password\n",
        "    length_criteria = len(password) >= 8\n",
        "    uppercase_criteria = any(char.isupper() for char in password)\n",
        "    lowercase_criteria = any(char.islower() for char in password)\n",
        "    digit_criteria = any(char.isdigit() for char in password)\n",
        "    special_char_criteria = any(char in '!@#$%^&*()-_=+[]{}|;:,.<>?/`~' for char in password)\n",
        "\n",
        "    # List of common passwords to avoid\n",
        "    common_passwords = [\"123456\", \"password\", \"123456789\", \"12345678\", \"12345\", \"1234567\", \"1234567890\", \"qwerty\", \"abc123\"]\n",
        "\n",
        "    # Check if the password is in the list of common passwords\n",
        "    common_password_criteria = password not in common_passwords\n",
        "\n",
        "    # Calculate the strength score\n",
        "    strength_score = sum([length_criteria, uppercase_criteria, lowercase_criteria, digit_criteria, special_char_criteria, common_password_criteria])\n",
        "\n",
        "    # Provide feedback based on the strength score\n",
        "    if strength_score == 6:\n",
        "        return \"Very Strong\"\n",
        "    elif strength_score == 5:\n",
        "        return \"Strong\"\n",
        "    elif strength_score == 4:\n",
        "        return \"Moderate\"\n",
        "    elif strength_score == 3:\n",
        "        return \"Weak\"\n",
        "    else:\n",
        "        return \"Very Weak\"\n",
        "\n",
        "def main():\n",
        "    print(\"Password Strength Checker\")\n",
        "    password = getpass.getpass(\"Enter your password: \")\n",
        "    strength = check_password_strength(password)\n",
        "    print(f\"Password Strength: {strength}\")\n",
        "\n",
        "if __name__ == \"__main__\":\n",
        "    main()\n"
      ],
      "metadata": {
        "_uuid": "8f2839f25d086af736a60e9eeb907d3b93b6e0e5",
        "_cell_guid": "b1076dfc-b9ad-4769-8c92-a6c4dae69d19",
        "trusted": true,
        "execution": {
          "iopub.status.busy": "2024-12-07T11:23:47.903303Z",
          "iopub.execute_input": "2024-12-07T11:23:47.903735Z",
          "iopub.status.idle": "2024-12-07T11:23:53.170148Z",
          "shell.execute_reply.started": "2024-12-07T11:23:47.903699Z",
          "shell.execute_reply": "2024-12-07T11:23:53.169059Z"
        },
        "colab": {
          "base_uri": "https://localhost:8080/"
        },
        "id": "6xhpW6SV4rsM",
        "outputId": "6240c034-2292-4feb-c187-017eff88d307"
      },
      "outputs": [
        {
          "output_type": "stream",
          "name": "stdout",
          "text": [
            "Password Strength Checker\n"
          ]
        }
      ],
      "execution_count": null
    }
  ]
}